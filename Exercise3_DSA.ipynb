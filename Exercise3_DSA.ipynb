{
  "nbformat": 4,
  "nbformat_minor": 0,
  "metadata": {
    "colab": {
      "provenance": [],
      "authorship_tag": "ABX9TyO98Wl9lbMaq5nrNY36xI9r",
      "include_colab_link": true
    },
    "kernelspec": {
      "name": "python3",
      "display_name": "Python 3"
    },
    "language_info": {
      "name": "python"
    }
  },
  "cells": [
    {
      "cell_type": "markdown",
      "metadata": {
        "id": "view-in-github",
        "colab_type": "text"
      },
      "source": [
        "<a href=\"https://colab.research.google.com/github/Andrei-Bona/DSA-CPE-010-CPE-21S4/blob/main/Exercise3_DSA.ipynb\" target=\"_parent\"><img src=\"https://colab.research.google.com/assets/colab-badge.svg\" alt=\"Open In Colab\"/></a>"
      ]
    },
    {
      "cell_type": "markdown",
      "source": [
        "Accessing the Elements in the Array\n"
      ],
      "metadata": {
        "id": "4Os5lG5JxMEt"
      }
    },
    {
      "cell_type": "code",
      "source": [
        "animals = ['cat', 'dog', 'fish']\n",
        "x = animals[0]\n",
        "print(x)"
      ],
      "metadata": {
        "colab": {
          "base_uri": "https://localhost:8080/"
        },
        "id": "alTQCkKCwegA",
        "outputId": "8a2e6005-7e50-4e4a-978f-3d167ace1af5"
      },
      "execution_count": 4,
      "outputs": [
        {
          "output_type": "stream",
          "name": "stdout",
          "text": [
            "cat\n"
          ]
        }
      ]
    },
    {
      "cell_type": "markdown",
      "source": [
        "Modifying the Elements in the Array"
      ],
      "metadata": {
        "id": "s8lK2yImxsPX"
      }
    },
    {
      "cell_type": "code",
      "source": [
        "animals = ['cat', 'dog', 'fish']\n",
        "animals[0] = 'monkey'\n",
        "print(animals[0])"
      ],
      "metadata": {
        "colab": {
          "base_uri": "https://localhost:8080/"
        },
        "id": "OdfAiRp0xruL",
        "outputId": "cfed184b-7116-4bbd-d791-6f012f6b9ad6"
      },
      "execution_count": 9,
      "outputs": [
        {
          "output_type": "stream",
          "name": "stdout",
          "text": [
            "monkey\n"
          ]
        }
      ]
    },
    {
      "cell_type": "markdown",
      "source": [
        "Length of an Array"
      ],
      "metadata": {
        "id": "2PQKMUfhx_Bs"
      }
    },
    {
      "cell_type": "code",
      "source": [
        "animals = ['monkey','cat,' 'dog', 'fish']\n",
        "x = len(animals)\n",
        "print(x)"
      ],
      "metadata": {
        "colab": {
          "base_uri": "https://localhost:8080/"
        },
        "id": "7xCudIxZyC2w",
        "outputId": "f4c9c0e7-86e4-4588-8f06-0d7d6eedb7f1"
      },
      "execution_count": 12,
      "outputs": [
        {
          "output_type": "stream",
          "name": "stdout",
          "text": [
            "3\n"
          ]
        }
      ]
    },
    {
      "cell_type": "markdown",
      "source": [
        "Looping Array Elements"
      ],
      "metadata": {
        "id": "EQE6aNgLycss"
      }
    },
    {
      "cell_type": "code",
      "source": [
        "animals = ['monkey','cat', 'dog', 'fish']\n",
        "for x in animals:\n",
        "  print(x)"
      ],
      "metadata": {
        "colab": {
          "base_uri": "https://localhost:8080/"
        },
        "id": "gCzp0g2kyehU",
        "outputId": "658d91e0-ed5e-401c-f195-9c928c5a4701"
      },
      "execution_count": 15,
      "outputs": [
        {
          "output_type": "stream",
          "name": "stdout",
          "text": [
            "monkey\n",
            "cat\n",
            "dog\n",
            "fish\n"
          ]
        }
      ]
    },
    {
      "cell_type": "markdown",
      "source": [
        "Adding Elements in Array"
      ],
      "metadata": {
        "id": "7s12tD2uypzM"
      }
    },
    {
      "cell_type": "code",
      "source": [
        "animals = ['monkey','cat', 'dog', 'fish']\n",
        "animals.append('bird')\n",
        "print(animals)"
      ],
      "metadata": {
        "colab": {
          "base_uri": "https://localhost:8080/"
        },
        "id": "bg_BJBCuy7ej",
        "outputId": "1a01ab15-67c9-4f61-f4c7-c3521d38a95b"
      },
      "execution_count": 18,
      "outputs": [
        {
          "output_type": "stream",
          "name": "stdout",
          "text": [
            "['monkey', 'cat', 'dog', 'fish', 'bird']\n"
          ]
        }
      ]
    },
    {
      "cell_type": "markdown",
      "source": [
        "Remove an Element in the Array"
      ],
      "metadata": {
        "id": "qXo5enhlzj5z"
      }
    },
    {
      "cell_type": "code",
      "source": [
        "animals = ['monkey','cat', 'dog', 'fish']\n",
        "animals.pop(1)\n",
        "print(animals)"
      ],
      "metadata": {
        "colab": {
          "base_uri": "https://localhost:8080/"
        },
        "id": "iavyXvTmzr8l",
        "outputId": "0a668af7-540b-49eb-ebb6-b6181365dbb3"
      },
      "execution_count": 24,
      "outputs": [
        {
          "output_type": "stream",
          "name": "stdout",
          "text": [
            "['monkey', 'dog', 'fish']\n"
          ]
        }
      ]
    },
    {
      "cell_type": "markdown",
      "source": [
        "Insert an animal in a specific location using insert()\n",
        "\n",
        "Remove the item in the specified index value using remove()\n",
        "\n",
        "Reverse all items using reverse()\n"
      ],
      "metadata": {
        "id": "a9DI8Z570stg"
      }
    },
    {
      "cell_type": "code",
      "source": [
        "#Insert an animal in a specific location using insert()\n",
        "animals = ['monkey','cat', 'dog', 'fish']\n",
        "animals.insert(4,'lizard')\n",
        "print(animals)"
      ],
      "metadata": {
        "colab": {
          "base_uri": "https://localhost:8080/"
        },
        "id": "laNsd8HA1Y7l",
        "outputId": "0979e077-3e26-4089-9238-4053869a65d2"
      },
      "execution_count": 25,
      "outputs": [
        {
          "output_type": "stream",
          "name": "stdout",
          "text": [
            "['monkey', 'cat', 'dog', 'fish', 'lizard']\n"
          ]
        }
      ]
    },
    {
      "cell_type": "code",
      "source": [
        "#Remove the item in the specified index value using remove()\n",
        "animals = ['monkey','cat', 'dog', 'fish','lizard']\n",
        "animals.remove('lizard')\n",
        "print(animals)"
      ],
      "metadata": {
        "colab": {
          "base_uri": "https://localhost:8080/"
        },
        "id": "d2bVNMbc1slE",
        "outputId": "3f934a7c-0d55-4894-d0ca-e8905bcd8904"
      },
      "execution_count": 36,
      "outputs": [
        {
          "output_type": "stream",
          "name": "stdout",
          "text": [
            "['monkey', 'cat', 'dog', 'fish']\n"
          ]
        }
      ]
    },
    {
      "cell_type": "code",
      "source": [
        "#Reverse all items using reverse()\n",
        "animals = ['monkey','cat', 'dog', 'fish']\n",
        "animals.reverse()\n",
        "print(animals)"
      ],
      "metadata": {
        "colab": {
          "base_uri": "https://localhost:8080/"
        },
        "id": "z1UGaWNvzbYX",
        "outputId": "8e190aab-019c-435d-e3c2-81a071f7e910"
      },
      "execution_count": 37,
      "outputs": [
        {
          "output_type": "stream",
          "name": "stdout",
          "text": [
            "['fish', 'dog', 'cat', 'monkey']\n"
          ]
        }
      ]
    }
  ]
}