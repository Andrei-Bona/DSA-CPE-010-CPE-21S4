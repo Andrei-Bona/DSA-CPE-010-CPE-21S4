{
  "nbformat": 4,
  "nbformat_minor": 0,
  "metadata": {
    "colab": {
      "provenance": [],
      "authorship_tag": "ABX9TyMCJMK4USizl/NHjisMIzkC",
      "include_colab_link": true
    },
    "kernelspec": {
      "name": "python3",
      "display_name": "Python 3"
    },
    "language_info": {
      "name": "python"
    }
  },
  "cells": [
    {
      "cell_type": "markdown",
      "metadata": {
        "id": "view-in-github",
        "colab_type": "text"
      },
      "source": [
        "<a href=\"https://colab.research.google.com/github/Andrei-Bona/DSA-CPE-010-CPE-21S4/blob/main/Exercise2_DSA.ipynb\" target=\"_parent\"><img src=\"https://colab.research.google.com/assets/colab-badge.svg\" alt=\"Open In Colab\"/></a>"
      ]
    },
    {
      "cell_type": "code",
      "execution_count": null,
      "metadata": {
        "colab": {
          "base_uri": "https://localhost:8080/"
        },
        "id": "omuDIcsd0MBR",
        "outputId": "1878477c-603b-4c61-c378-d830896f310b"
      },
      "outputs": [
        {
          "output_type": "stream",
          "name": "stdout",
          "text": [
            "Area of Rectangle:  4\n",
            "Area of Square:  16\n",
            "Area of Triangle:  6.0\n"
          ]
        }
      ],
      "source": [
        "class Shapes():\n",
        "  def __init__(self, length = 0, width = 0, side = 0, base = 0, height = 0):\n",
        "    self.length = length\n",
        "    self.width = width\n",
        "    self.side = side\n",
        "    self.base = base\n",
        "    self.height = height\n",
        "\n",
        "class Rectangle(Shapes):\n",
        "  def Area_Rectangle(self):\n",
        "    return self.length * self.width\n",
        "class Square(Shapes):\n",
        "  def Area_Square(self):\n",
        "    return self.side**2\n",
        "class Triangle (Shapes):\n",
        "  def Area_Triangle(self):\n",
        "    return (self.base * self.height) * 0.5\n",
        "\n",
        "areaRec = Rectangle(length = 2, width = 2 )\n",
        "areaSquare = Square(side = 4)\n",
        "areaTriangle = Triangle(base = 3, height = 4)\n",
        "\n",
        "print(\"Area of Rectangle: \", areaRec.Area_Rectangle())\n",
        "print(\"Area of Square: \", areaSquare.Area_Square())\n",
        "print(\"Area of Triangle: \", areaTriangle.Area_Triangle())"
      ]
    }
  ]
}